{
 "cells": [
  {
   "cell_type": "markdown",
   "metadata": {},
   "source": [
    "\n",
    "<div style=\"text-align: center;\">\n",
    "  <img src=\"https://github.com/Hack-io-Data/Imagenes/blob/main/01-LogosHackio/logo_celeste@4x.png?raw=true\" alt=\"esquema\" />\n",
    "</div>\n"
   ]
  },
  {
   "cell_type": "markdown",
   "metadata": {},
   "source": [
    "# Laboratorio de Python: manejo de errores."
   ]
  },
  {
   "cell_type": "markdown",
   "metadata": {},
   "source": [
    "## Ejercicio 1: División con manejo de excepciones\n",
    "\n",
    "Escribe un programa que pida al usuario dos números e intente dividirlos. Si el usuario ingresa un valor no numérico o intenta dividir por cero, maneja esas excepciones de manera adecuada. Asegúrate de mostrar un mensaje indicando si la división fue exitosa o no.\n"
   ]
  },
  {
   "cell_type": "code",
   "execution_count": null,
   "metadata": {},
   "outputs": [
    {
     "name": "stdout",
     "output_type": "stream",
     "text": [
      "No puedes dividir un número entre 0\n"
     ]
    }
   ],
   "source": [
    "try:\n",
    "    numero1 = float(input(f\"Ingresa un número entero\"))\n",
    "    numero2 = float(input(f\"Ahora ingresa otro número entero para dividirlo con el anterior\"))\n",
    "    division_numeros = numero1 / numero2\n",
    "\n",
    "    print(f\"La división entre {numero1} y {numero2} fue exitosa y el resultado es de: {division_numeros}\")\n",
    "except ZeroDivisionError:\n",
    "    print(f\"No puedes dividir un número entre 0\")\n",
    "except ValueError:\n",
    "     print(f\"El número que has introducido no es un número\")"
   ]
  },
  {
   "cell_type": "markdown",
   "metadata": {},
   "source": [
    "## Ejercicio 2: Acceso a archivos\n",
    "\n",
    "Escribe un programa que intente abrir un archivo llamado \"datos.txt\". Si el archivo no existe, captura la excepción y muestra un mensaje de error. Asegúrate de cerrar el archivo correctamente en la sección `finally`.\n"
   ]
  },
  {
   "cell_type": "code",
   "execution_count": 3,
   "metadata": {},
   "outputs": [
    {
     "name": "stdout",
     "output_type": "stream",
     "text": [
      "El archivo 'archivo.txt' no existe.\n",
      "El archivo 'datos.txt' se ha cerrado\n"
     ]
    }
   ],
   "source": [
    "try:\n",
    "    # Abrir el archivo en modo lectura\n",
    "    with open('archivo.txt', 'r') as archivo:\n",
    "     contenido = archivo.read()\n",
    "     print(contenido)\n",
    "except IOError:\n",
    "   print(f\"El archivo 'archivo.txt' no existe.\")\n",
    "finally:\n",
    "   print(\"El archivo 'datos.txt' se ha cerrado\")\n"
   ]
  },
  {
   "cell_type": "markdown",
   "metadata": {},
   "source": [
    "## Ejercicio 3: Conversión de cadenas a enteros\n",
    "\n",
    "Escribe un programa que pida una lista de números separados por comas y convierta cada valor a un número entero. Maneja las excepciones para valores que no sean convertibles y asegúrate de informar si la conversión fue exitosa o no.\n"
   ]
  },
  {
   "cell_type": "code",
   "execution_count": null,
   "metadata": {},
   "outputs": [
    {
     "name": "stdout",
     "output_type": "stream",
     "text": [
      "La conversión fue exitosa, y la lista de números enteros que has generado es:\n",
      "[1, 2, 4, 6, 563, 57, 53, 73]\n"
     ]
    }
   ],
   "source": [
    "resultado = input(f\"Intoduce una lista de números separados por comas\")\n",
    "\n",
    "try:\n",
    "    lista_numero_entero = []\n",
    "    for numeros in resultado.split(\",\"):\n",
    "        numero_entero = int(numeros.strip())\n",
    "        lista_numero_entero.append(numero_entero)\n",
    "    print(f\"La conversión fue exitosa, y la lista de números enteros que has generado es:\")\n",
    "    print(lista_numero_entero)\n",
    "except ValueError:\n",
    "    print(f\"Por favor, asegúrate de introducir solo números separados por comas\")"
   ]
  },
  {
   "cell_type": "markdown",
   "metadata": {},
   "source": [
    "#### Ejercicio 4: Cálculo del promedio con manejo de excepciones\n",
    "\n",
    "Escribe una función que reciba una lista de números y calcule su promedio. Si la lista está vacía, lanza una excepción personalizada y maneja el error adecuadamente.\n"
   ]
  },
  {
   "cell_type": "code",
   "execution_count": 10,
   "metadata": {},
   "outputs": [],
   "source": [
    "def promedio_numeros(lista):\n",
    "    try:\n",
    "         if not lista:\n",
    "            return f\"La lista está vaciá, no se puede calcular el promedio\"\n",
    "         else:\n",
    "              promedio = sum(lista) / len(lista)\n",
    "              return f\"El promedio de la lista {lista} es {promedio}\"\n",
    "         \n",
    "    except ValueError:\n",
    "        print(f\"No has introducido una lista correctamente.\")"
   ]
  },
  {
   "cell_type": "code",
   "execution_count": 13,
   "metadata": {},
   "outputs": [
    {
     "data": {
      "text/plain": [
       "'El promedio de la lista [2, 4, 6, 8, 10] es 6.0'"
      ]
     },
     "execution_count": 13,
     "metadata": {},
     "output_type": "execute_result"
    }
   ],
   "source": [
    "promedio_numeros([2,4,6,8,10])"
   ]
  },
  {
   "cell_type": "markdown",
   "metadata": {},
   "source": [
    "#### Ejercicio 5: Conversión segura de números\n",
    "\n",
    "Escribe un programa que convierta una cadena a número flotante e intente realizar una operación aritmética. Si la conversión falla, maneja la excepción y continúa con el flujo normal."
   ]
  },
  {
   "cell_type": "code",
   "execution_count": 89,
   "metadata": {},
   "outputs": [],
   "source": [
    "def numero_flotante(cadena):\n",
    "    try: \n",
    "        numero = float(cadena)\n",
    "\n",
    "        operacion = numero * 4\n",
    "        print(f\"La cadena {cadena} se ha convertido al número {numero} y el resultado de la operación es {operacion}\")\n",
    "    except:\n",
    "        print(f\"No se ha podido convertir la cadena a número flotante\")\n",
    "  "
   ]
  },
  {
   "cell_type": "code",
   "execution_count": 91,
   "metadata": {},
   "outputs": [
    {
     "name": "stdout",
     "output_type": "stream",
     "text": [
      "La cadena 73.5 se ha convertido al número 73.5 y el resultado de la operación es 294.0\n"
     ]
    }
   ],
   "source": [
    "numero_flotante(73.5)"
   ]
  },
  {
   "cell_type": "markdown",
   "metadata": {},
   "source": [
    "#### Ejercicio 6: Acceso a claves en diccionarios\n",
    "\n",
    "Escribe un programa que intente acceder a una clave específica en un diccionario. Si la clave no existe, maneja la excepción `KeyError` y muestra un mensaje indicando el problema."
   ]
  },
  {
   "cell_type": "code",
   "execution_count": 94,
   "metadata": {},
   "outputs": [],
   "source": [
    "diccionario1 = {\n",
    "    \"nombre\": \"Juan\",\n",
    "    \"edad\": 25,\n",
    "    \"ciudad\": \"Madrid\",\n",
    "    \"profesion\": \"Ingeniero\"\n",
    "}"
   ]
  },
  {
   "cell_type": "code",
   "execution_count": 114,
   "metadata": {},
   "outputs": [],
   "source": [
    "def buscar_clave (clave):\n",
    "    try:\n",
    "        valor = diccionario1[clave]\n",
    "        print(f\"La clave {clave} está en el diccionario y su valor es {valor}.\")\n",
    "    except KeyError:\n",
    "        print(f\"La clave {clave} no existe en el diccionario.\")"
   ]
  },
  {
   "cell_type": "code",
   "execution_count": 117,
   "metadata": {},
   "outputs": [
    {
     "name": "stdout",
     "output_type": "stream",
     "text": [
      "La clave nombre está en el diccionario y su valor es Juan.\n"
     ]
    }
   ],
   "source": [
    "buscar_clave(\"nombre\")"
   ]
  },
  {
   "cell_type": "markdown",
   "metadata": {},
   "source": [
    "\n",
    "#### Ejercicio 7: Verificación de entradas de usuario\n",
    "\n",
    "Escribe un programa que pida al usuario que introduzca su edad. Si el usuario ingresa un valor no numérico o un valor fuera del rango esperado (por ejemplo, menor que 0 o mayor que 120), maneja las excepciones adecuadamente."
   ]
  },
  {
   "cell_type": "code",
   "execution_count": 127,
   "metadata": {},
   "outputs": [],
   "source": [
    "def edad_usuario(introduce_edad):\n",
    "    introduce_edad = input(f\"Introduce tu edad\")\n",
    "    try:\n",
    "        edad = int(introduce_edad)\n",
    "        if edad < 0:\n",
    "            print(f\"La edad introducida es menor que 0 y por lo tanto no es válida.\")\n",
    "        elif edad > 120:\n",
    "            print(f\"La edad introducida es mayor de 120 y por lo tanto no es válida.\")\n",
    "        else: \n",
    "            print(f\"La edad introducida es {edad}\")\n",
    "    except:\n",
    "        edad != int\n",
    "        print(f\"El valor que has introducido no es un valor numérico.\")"
   ]
  },
  {
   "cell_type": "code",
   "execution_count": 131,
   "metadata": {},
   "outputs": [
    {
     "name": "stdout",
     "output_type": "stream",
     "text": [
      "La edad introducida es 30\n"
     ]
    }
   ],
   "source": [
    "edad_usuario(introduce_edad)"
   ]
  },
  {
   "cell_type": "markdown",
   "metadata": {},
   "source": [
    "#### Ejercicio 8: Extracción de valores de una lista\n",
    "\n",
    "Escribe una función que intente acceder a un índice específico en una lista. Si el índice está fuera del rango, maneja la excepción `IndexError` y muestra un mensaje adecuado.\n"
   ]
  },
  {
   "cell_type": "code",
   "execution_count": 135,
   "metadata": {},
   "outputs": [],
   "source": [
    "lista_indice = [2, 3, 4, 5]"
   ]
  },
  {
   "cell_type": "code",
   "execution_count": 141,
   "metadata": {},
   "outputs": [],
   "source": [
    "def acceso_indice(indice):\n",
    "    try:\n",
    "        numero = lista_indice[indice]\n",
    "        print(f\"El valor del índice {indice} buscado es {numero}\")\n",
    "    except IndexError:\n",
    "        print(f\"El índice al que intentas acceder está fuera del rango.\")\n"
   ]
  },
  {
   "cell_type": "code",
   "execution_count": 146,
   "metadata": {},
   "outputs": [
    {
     "name": "stdout",
     "output_type": "stream",
     "text": [
      "El valor del índice 3 buscado es 5\n"
     ]
    }
   ],
   "source": [
    "acceso_indice(3)"
   ]
  }
 ],
 "metadata": {
  "kernelspec": {
   "display_name": "Python 3",
   "language": "python",
   "name": "python3"
  },
  "language_info": {
   "codemirror_mode": {
    "name": "ipython",
    "version": 3
   },
   "file_extension": ".py",
   "mimetype": "text/x-python",
   "name": "python",
   "nbconvert_exporter": "python",
   "pygments_lexer": "ipython3",
   "version": "3.9.6"
  }
 },
 "nbformat": 4,
 "nbformat_minor": 2
}
